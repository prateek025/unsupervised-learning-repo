{
  "cells": [
    {
      "cell_type": "markdown",
      "source": [
        "**Market Basket Analysis using Association Rules**\n",
        "\n",
        "- This notebook covers Market Basket Analysis using Association Rules on grocery data :[The Instacart Online Grocery Shopping Dataset 2017](https://www.instacart.com/datasets/grocery-shopping-2017)\n",
        "- The output of this file generates a table with pairs of Antecedent-Consequent food items under certain Support,Confidence, and Lift conditions."
      ],
      "metadata": {
        "id": "9do18nIp6zjS"
      }
    },
    {
      "cell_type": "code",
      "execution_count": 1,
      "metadata": {
        "id": "eGW0GmZIx5nQ"
      },
      "outputs": [],
      "source": [
        "#importing necessary libraries\n",
        "import pandas as pd\n",
        "import numpy as np\n",
        "import matplotlib.pyplot as plt\n",
        "import matplotlib.cm as cm\n",
        "import sys\n",
        "\n",
        "from apyori import apriori\n",
        "#from itertools import combinations, groupby\n",
        "#from collections import Counter\n",
        "#from IPython.display import display"
      ]
    },
    {
      "cell_type": "code",
      "execution_count": 2,
      "metadata": {
        "id": "3MuSbjY6x5nZ"
      },
      "outputs": [],
      "source": [
        "#funtion to return the size of a pandas dataframe in MB\n",
        "\n",
        "def size(df):\n",
        "    return '{0:.2f} MB'.format(sys.getsizeof(df) / (1024 * 1024))"
      ]
    },
    {
      "cell_type": "code",
      "execution_count": 3,
      "metadata": {
        "id": "DmFIakwgx5nb"
      },
      "outputs": [],
      "source": [
        "#importing data\n",
        "\n",
        "df_orders = pd.read_csv('/content/order_products__prior.csv')\n",
        "df_products = pd.read_csv('/content/products.csv')"
      ]
    },
    {
      "cell_type": "code",
      "execution_count": 4,
      "metadata": {
        "colab": {
          "base_uri": "https://localhost:8080/"
        },
        "id": "M_4O548Px5nc",
        "outputId": "df3355d0-093a-407f-bc2e-ae0f3c88294d"
      },
      "outputs": [
        {
          "output_type": "stream",
          "name": "stdout",
          "text": [
            "Order Data sample\n",
            "   order_id  product_id  add_to_cart_order  reordered\n",
            "0         2       33120                  1          1\n",
            "1         2       28985                  2          1\n",
            "2         2        9327                  3          0\n",
            "3         2       45918                  4          1\n",
            "4         2       30035                  5          0\n"
          ]
        }
      ],
      "source": [
        "print('Order Data sample')\n",
        "print(df_orders.head())"
      ]
    },
    {
      "cell_type": "code",
      "source": [
        "print('Products sample')\n",
        "print(df_products.head())"
      ],
      "metadata": {
        "colab": {
          "base_uri": "https://localhost:8080/"
        },
        "id": "RyoHY1p7zuqf",
        "outputId": "cdcecfc9-bc06-4bf7-8460-712f53bec26b"
      },
      "execution_count": 5,
      "outputs": [
        {
          "output_type": "stream",
          "name": "stdout",
          "text": [
            "Products sample\n",
            "   product_id                                       product_name  aisle_id  \\\n",
            "0           1                         Chocolate Sandwich Cookies        61   \n",
            "1           2                                   All-Seasons Salt       104   \n",
            "2           3               Robust Golden Unsweetened Oolong Tea        94   \n",
            "3           4  Smart Ones Classic Favorites Mini Rigatoni Wit...        38   \n",
            "4           5                          Green Chile Anytime Sauce         5   \n",
            "\n",
            "   department_id  \n",
            "0             19  \n",
            "1             13  \n",
            "2              7  \n",
            "3              1  \n",
            "4             13  \n"
          ]
        }
      ]
    },
    {
      "cell_type": "code",
      "execution_count": 6,
      "metadata": {
        "colab": {
          "base_uri": "https://localhost:8080/"
        },
        "id": "CeG28wXXx5ne",
        "outputId": "7eff61f0-2eab-4470-c80e-a860c08556f1"
      },
      "outputs": [
        {
          "output_type": "stream",
          "name": "stdout",
          "text": [
            "   order_id           product_name\n",
            "0         2     Organic Egg Whites\n",
            "1         2  Michigan Organic Kale\n",
            "2         2          Garlic Powder\n",
            "3         2         Coconut Butter\n",
            "4         2      Natural Sweetener\n"
          ]
        }
      ],
      "source": [
        "#Joining Order and Product data to obtain product names under each order\n",
        "\n",
        "df_orders_product = pd.merge(df_orders[['order_id', 'product_id']],\n",
        "                             df_products[['product_name', 'product_id']],\n",
        "                             on='product_id', how='left')\\\n",
        "                             .drop(columns = ['product_id'])\n",
        "print(df_orders_product.head())"
      ]
    },
    {
      "cell_type": "code",
      "execution_count": 7,
      "metadata": {
        "colab": {
          "base_uri": "https://localhost:8080/"
        },
        "id": "HOOyPF-wx5ne",
        "outputId": "0a4c6cf0-4721-42bd-f622-1c1bb7748b69"
      },
      "outputs": [
        {
          "output_type": "stream",
          "name": "stdout",
          "text": [
            "(32434489, 2)\n",
            "3035.86 MB\n"
          ]
        }
      ],
      "source": [
        "print(df_orders_product.shape)\n",
        "print(size(df_orders_product))"
      ]
    },
    {
      "cell_type": "code",
      "execution_count": 8,
      "metadata": {
        "scrolled": true,
        "colab": {
          "base_uri": "https://localhost:8080/"
        },
        "id": "eIatTBLxx5ni",
        "outputId": "3c4e7dda-64bd-4688-dc13-9444c6f7ccba"
      },
      "outputs": [
        {
          "output_type": "stream",
          "name": "stdout",
          "text": [
            "   index            product_name   count\n",
            "0   3676                  Banana  472565\n",
            "1   3471  Bag of Organic Bananas  379450\n",
            "2  31920    Organic Strawberries  264683\n",
            "3  28840    Organic Baby Spinach  241921\n",
            "4  30297    Organic Hass Avocado  213584\n",
            "5  28804         Organic Avocado  176815\n",
            "6  22413             Large Lemon  152657\n",
            "7  42904            Strawberries  142951\n",
            "8  23420                   Limes  140627\n",
            "9  32478      Organic Whole Milk  137905\n"
          ]
        }
      ],
      "source": [
        "#Creating a new dataframe to collect most bought food items along with their order count\n",
        "\n",
        "popular_products = df_orders_product.groupby(['product_name'])['order_id']\\\n",
        "                                    .count()\\\n",
        "                                    .reset_index(name='count')\\\n",
        "                                    .sort_values(['count'], ascending=False)\\\n",
        "                                    .reset_index()\n",
        "top_10_popular_products = popular_products.head(10)\n",
        "print('10 most bought food items')\n",
        "print(top_10_popular_products)"
      ]
    },
    {
      "cell_type": "code",
      "execution_count": 9,
      "metadata": {
        "colab": {
          "base_uri": "https://localhost:8080/",
          "height": 598
        },
        "id": "tyR_jb-hx5nj",
        "outputId": "1fe7f05e-a8ae-4fb9-ee9f-eaf54e2b3d8a"
      },
      "outputs": [
        {
          "output_type": "display_data",
          "data": {
            "text/plain": [
              "<Figure size 1440x720 with 1 Axes>"
            ],
            "image/png": "[encoded data removed]"
          },
          "metadata": {
            "needs_background": "light"
          }
        }
      ],
      "source": [
        "# visualizing 10 most bought food items\n",
        "\n",
        "names = list(top_10_popular_products['product_name'])\n",
        "values = list(top_10_popular_products['count'])\n",
        "plt.subplots(figsize = (20,10))\n",
        "bars = plt.bar(range(len((top_10_popular_products['product_name']))),\n",
        "               values,\n",
        "               tick_label=names)\n",
        "plt.title('10 most popular products:')\n",
        "for bar in bars:\n",
        "    yval = bar.get_height()\n",
        "    plt.text((bar.get_x()+0.2), yval + .01, yval)\n",
        "    plt.xticks(rotation=90)\n",
        "plt.show()"
      ]
    },
    {
      "cell_type": "code",
      "execution_count": 10,
      "metadata": {
        "scrolled": true,
        "colab": {
          "base_uri": "https://localhost:8080/"
        },
        "id": "MCvCV_Twx5nm",
        "outputId": "3d803c1e-9d62-404f-d507-513d0cd9dc88"
      },
      "outputs": [
        {
          "output_type": "stream",
          "name": "stdout",
          "text": [
            "   order_id                                      cart_products\n",
            "0         2  [Organic Egg Whites, Michigan Organic Kale, Ga...\n",
            "1         3  [Total 2% with Strawberry Lowfat Greek Straine...\n",
            "2         4  [Plain Pre-Sliced Bagels, Honey/Lemon Cough Dr...\n",
            "3         5  [Bag of Organic Bananas, Just Crisp, Parmesan,...\n",
            "4         6  [Cleanse, Dryer Sheets Geranium Scent, Clean D...\n",
            "         order_id                                      cart_products\n",
            "3214868   3421078  [Organic Gala Apples, Banana, Gluten Free Pean...\n",
            "3214869   3421079                                    [Moisture Soap]\n",
            "3214870   3421080  [Organic Whole Milk, Vanilla Bean Ice Cream, O...\n",
            "3214871   3421081  [Hint of Lime Flavored Tortilla Chips, Classic...\n",
            "3214872   3421082  [Fresh 99% Lean Ground Turkey, Original Spray,...\n",
            "548.79 MB\n"
          ]
        }
      ],
      "source": [
        "# collecting all food items in an order and saving them into a list \n",
        "\n",
        "df_cart_order = df_orders_product.groupby(['order_id'])['product_name']\\\n",
        "                       .apply(list)\\\n",
        "                       .reset_index(name='cart_products')\n",
        "df_cart_order = df_cart_order[:-1]\n",
        "print(df_cart_order.head())\n",
        "print(df_cart_order.tail())\n",
        "print(size(df_cart_order))"
      ]
    },
    {
      "cell_type": "code",
      "execution_count": 11,
      "metadata": {
        "colab": {
          "base_uri": "https://localhost:8080/",
          "height": 206
        },
        "id": "BOssZcf_x5np",
        "outputId": "bda37da5-9402-4bed-9ad5-0fbf43aff16a"
      },
      "outputs": [
        {
          "output_type": "display_data",
          "data": {
            "text/plain": [
              "                                            items   support  \\\n",
              "0  (Bag of Organic Bananas, Organic Baby Spinach)  0.015668   \n",
              "1  (Organic Hass Avocado, Bag of Organic Bananas)  0.019391   \n",
              "2   (Bag of Organic Bananas, Organic Raspberries)  0.012599   \n",
              "3  (Bag of Organic Bananas, Organic Strawberries)  0.019170   \n",
              "4                           (Large Lemon, Banana)  0.012716   \n",
              "\n",
              "                                  ordered_statistics  \n",
              "0  [((Bag of Organic Bananas), (Organic Baby Spin...  \n",
              "1  [((Bag of Organic Bananas), (Organic Hass Avoc...  \n",
              "2  [((Bag of Organic Bananas), (Organic Raspberri...  \n",
              "3  [((Bag of Organic Bananas), (Organic Strawberr...  \n",
              "4  [((Banana), (Large Lemon), 0.08650680119518203...  "
            ],
            "text/html": [
              "\n",
              "  <div id=\"df-f6924df1-aa7a-48f0-ad74-fca2aa972cba\">\n",
              "    <div class=\"colab-df-container\">\n",
              "      <div>\n",
              "<style scoped>\n",
              "    .dataframe tbody tr th:only-of-type {\n",
              "        vertical-align: middle;\n",
              "    }\n",
              "\n",
              "    .dataframe tbody tr th {\n",
              "        vertical-align: top;\n",
              "    }\n",
              "\n",
              "    .dataframe thead th {\n",
              "        text-align: right;\n",
              "    }\n",
              "</style>\n",
              "<table border=\"1\" class=\"dataframe\">\n",
              "  <thead>\n",
              "    <tr style=\"text-align: right;\">\n",
              "      <th></th>\n",
              "      <th>items</th>\n",
              "      <th>support</th>\n",
              "      <th>ordered_statistics</th>\n",
              "    </tr>\n",
              "  </thead>\n",
              "  <tbody>\n",
              "    <tr>\n",
              "      <th>0</th>\n",
              "      <td>(Bag of Organic Bananas, Organic Baby Spinach)</td>\n",
              "      <td>0.015668</td>\n",
              "      <td>[((Bag of Organic Bananas), (Organic Baby Spin...</td>\n",
              "    </tr>\n",
              "    <tr>\n",
              "      <th>1</th>\n",
              "      <td>(Organic Hass Avocado, Bag of Organic Bananas)</td>\n",
              "      <td>0.019391</td>\n",
              "      <td>[((Bag of Organic Bananas), (Organic Hass Avoc...</td>\n",
              "    </tr>\n",
              "    <tr>\n",
              "      <th>2</th>\n",
              "      <td>(Bag of Organic Bananas, Organic Raspberries)</td>\n",
              "      <td>0.012599</td>\n",
              "      <td>[((Bag of Organic Bananas), (Organic Raspberri...</td>\n",
              "    </tr>\n",
              "    <tr>\n",
              "      <th>3</th>\n",
              "      <td>(Bag of Organic Bananas, Organic Strawberries)</td>\n",
              "      <td>0.019170</td>\n",
              "      <td>[((Bag of Organic Bananas), (Organic Strawberr...</td>\n",
              "    </tr>\n",
              "    <tr>\n",
              "      <th>4</th>\n",
              "      <td>(Large Lemon, Banana)</td>\n",
              "      <td>0.012716</td>\n",
              "      <td>[((Banana), (Large Lemon), 0.08650680119518203...</td>\n",
              "    </tr>\n",
              "  </tbody>\n",
              "</table>\n",
              "</div>\n",
              "      <button class=\"colab-df-convert\" onclick=\"convertToInteractive('df-f6924df1-aa7a-48f0-ad74-fca2aa972cba')\"\n",
              "              title=\"Convert this dataframe to an interactive table.\"\n",
              "              style=\"display:none;\">\n",
              "        \n",
              "  <svg xmlns=\"http://www.w3.org/2000/svg\" height=\"24px\"viewBox=\"0 0 24 24\"\n",
              "       width=\"24px\">\n",
              "    <path d=\"M0 0h24v24H0V0z\" fill=\"none\"/>\n",
              "    <path d=\"M18.56 5.44l.94 2.06.94-2.06 2.06-.94-2.06-.94-.94-2.06-.94 2.06-2.06.94zm-11 1L8.5 8.5l.94-2.06 2.06-.94-2.06-.94L8.5 2.5l-.94 2.06-2.06.94zm10 10l.94 2.06.94-2.06 2.06-.94-2.06-.94-.94-2.06-.94 2.06-2.06.94z\"/><path d=\"M17.41 7.96l-1.37-1.37c-.4-.4-.92-.59-1.43-.59-.52 0-1.04.2-1.43.59L10.3 9.45l-7.72 7.72c-.78.78-.78 2.05 0 2.83L4 21.41c.39.39.9.59 1.41.59.51 0 1.02-.2 1.41-.59l7.78-7.78 2.81-2.81c.8-.78.8-2.07 0-2.86zM5.41 20L4 18.59l7.72-7.72 1.47 1.35L5.41 20z\"/>\n",
              "  </svg>\n",
              "      </button>\n",
              "      \n",
              "  <style>\n",
              "    .colab-df-container {\n",
              "      display:flex;\n",
              "      flex-wrap:wrap;\n",
              "      gap: 12px;\n",
              "    }\n",
              "\n",
              "    .colab-df-convert {\n",
              "      background-color: #E8F0FE;\n",
              "      border: none;\n",
              "      border-radius: 50%;\n",
              "      cursor: pointer;\n",
              "      display: none;\n",
              "      fill: #1967D2;\n",
              "      height: 32px;\n",
              "      padding: 0 0 0 0;\n",
              "      width: 32px;\n",
              "    }\n",
              "\n",
              "    .colab-df-convert:hover {\n",
              "      background-color: #E2EBFA;\n",
              "      box-shadow: 0px 1px 2px rgba(60, 64, 67, 0.3), 0px 1px 3px 1px rgba(60, 64, 67, 0.15);\n",
              "      fill: #174EA6;\n",
              "    }\n",
              "\n",
              "    [theme=dark] .colab-df-convert {\n",
              "      background-color: #3B4455;\n",
              "      fill: #D2E3FC;\n",
              "    }\n",
              "\n",
              "    [theme=dark] .colab-df-convert:hover {\n",
              "      background-color: #434B5C;\n",
              "      box-shadow: 0px 1px 3px 1px rgba(0, 0, 0, 0.15);\n",
              "      filter: drop-shadow(0px 1px 2px rgba(0, 0, 0, 0.3));\n",
              "      fill: #FFFFFF;\n",
              "    }\n",
              "  </style>\n",
              "\n",
              "      <script>\n",
              "        const buttonEl =\n",
              "          document.querySelector('#df-f6924df1-aa7a-48f0-ad74-fca2aa972cba button.colab-df-convert');\n",
              "        buttonEl.style.display =\n",
              "          google.colab.kernel.accessAllowed ? 'block' : 'none';\n",
              "\n",
              "        async function convertToInteractive(key) {\n",
              "          const element = document.querySelector('#df-f6924df1-aa7a-48f0-ad74-fca2aa972cba');\n",
              "          const dataTable =\n",
              "            await google.colab.kernel.invokeFunction('convertToInteractive',\n",
              "                                                     [key], {});\n",
              "          if (!dataTable) return;\n",
              "\n",
              "          const docLinkHtml = 'Like what you see? Visit the ' +\n",
              "            '<a target=\"_blank\" href=https://colab.research.google.com/notebooks/data_table.ipynb>data table notebook</a>'\n",
              "            + ' to learn more about interactive tables.';\n",
              "          element.innerHTML = '';\n",
              "          dataTable['output_type'] = 'display_data';\n",
              "          await google.colab.output.renderOutput(dataTable, element);\n",
              "          const docLink = document.createElement('div');\n",
              "          docLink.innerHTML = docLinkHtml;\n",
              "          element.appendChild(docLink);\n",
              "        }\n",
              "      </script>\n",
              "    </div>\n",
              "  </div>\n",
              "  "
            ]
          },
          "metadata": {}
        }
      ],
      "source": [
        "# applying association rules on lists of food items across multiple purchase orders\n",
        "\n",
        "transactions = df_cart_order['cart_products']\n",
        "a_rules = apriori(transactions, min_support=0.01, min_confidance=0.4, min_lift=1.5, max_length=3)\n",
        "list_rules = list(a_rules)\n",
        "df_rules = pd.DataFrame(list_rules)\n",
        "display(df_rules.head())"
      ]
    },
    {
      "cell_type": "code",
      "execution_count": 12,
      "metadata": {
        "id": "BGOTtgICx5nu"
      },
      "outputs": [],
      "source": [
        "# Extracting elements form df_rules into different lists\n",
        "\n",
        "os_col1 = []\n",
        "os_col2 = []\n",
        "os_col3 = []\n",
        "os_col4 = []\n",
        "\n",
        "for i in range(df_rules.shape[0]):\n",
        "    list_flat = df_rules['ordered_statistics'][i][0]\n",
        "    os_col1.append(list(list_flat[0]))\n",
        "    os_col2.append(list(list_flat[1]))\n",
        "    os_col3.append(list_flat[2])\n",
        "    os_col4.append(list_flat[3])\n",
        "    \n",
        "support = list(df_rules['support'])  "
      ]
    },
    {
      "cell_type": "code",
      "execution_count": 13,
      "metadata": {
        "colab": {
          "base_uri": "https://localhost:8080/",
          "height": 206
        },
        "id": "I-02akEvx5nv",
        "outputId": "426df696-6a8a-4953-a736-d966db7c6bb1"
      },
      "outputs": [
        {
          "output_type": "display_data",
          "data": {
            "text/plain": [
              "               Antecedent            Consequent   Support  Confidence  \\\n",
              "0  Bag of Organic Bananas  Organic Baby Spinach  0.015668    0.132750   \n",
              "1  Bag of Organic Bananas  Organic Hass Avocado  0.019391    0.164293   \n",
              "2  Bag of Organic Bananas   Organic Raspberries  0.012599    0.106741   \n",
              "3  Bag of Organic Bananas  Organic Strawberries  0.019170    0.162414   \n",
              "4                  Banana           Large Lemon  0.012716    0.086507   \n",
              "\n",
              "       Lift  \n",
              "0  1.764107  \n",
              "1  2.472944  \n",
              "2  2.503775  \n",
              "3  1.972701  \n",
              "4  1.821786  "
            ],
            "text/html": [
              "\n",
              "  <div id=\"df-f4ec9ace-93a0-44fe-9cdf-2930cbca7530\">\n",
              "    <div class=\"colab-df-container\">\n",
              "      <div>\n",
              "<style scoped>\n",
              "    .dataframe tbody tr th:only-of-type {\n",
              "        vertical-align: middle;\n",
              "    }\n",
              "\n",
              "    .dataframe tbody tr th {\n",
              "        vertical-align: top;\n",
              "    }\n",
              "\n",
              "    .dataframe thead th {\n",
              "        text-align: right;\n",
              "    }\n",
              "</style>\n",
              "<table border=\"1\" class=\"dataframe\">\n",
              "  <thead>\n",
              "    <tr style=\"text-align: right;\">\n",
              "      <th></th>\n",
              "      <th>Antecedent</th>\n",
              "      <th>Consequent</th>\n",
              "      <th>Support</th>\n",
              "      <th>Confidence</th>\n",
              "      <th>Lift</th>\n",
              "    </tr>\n",
              "  </thead>\n",
              "  <tbody>\n",
              "    <tr>\n",
              "      <th>0</th>\n",
              "      <td>Bag of Organic Bananas</td>\n",
              "      <td>Organic Baby Spinach</td>\n",
              "      <td>0.015668</td>\n",
              "      <td>0.132750</td>\n",
              "      <td>1.764107</td>\n",
              "    </tr>\n",
              "    <tr>\n",
              "      <th>1</th>\n",
              "      <td>Bag of Organic Bananas</td>\n",
              "      <td>Organic Hass Avocado</td>\n",
              "      <td>0.019391</td>\n",
              "      <td>0.164293</td>\n",
              "      <td>2.472944</td>\n",
              "    </tr>\n",
              "    <tr>\n",
              "      <th>2</th>\n",
              "      <td>Bag of Organic Bananas</td>\n",
              "      <td>Organic Raspberries</td>\n",
              "      <td>0.012599</td>\n",
              "      <td>0.106741</td>\n",
              "      <td>2.503775</td>\n",
              "    </tr>\n",
              "    <tr>\n",
              "      <th>3</th>\n",
              "      <td>Bag of Organic Bananas</td>\n",
              "      <td>Organic Strawberries</td>\n",
              "      <td>0.019170</td>\n",
              "      <td>0.162414</td>\n",
              "      <td>1.972701</td>\n",
              "    </tr>\n",
              "    <tr>\n",
              "      <th>4</th>\n",
              "      <td>Banana</td>\n",
              "      <td>Large Lemon</td>\n",
              "      <td>0.012716</td>\n",
              "      <td>0.086507</td>\n",
              "      <td>1.821786</td>\n",
              "    </tr>\n",
              "  </tbody>\n",
              "</table>\n",
              "</div>\n",
              "      <button class=\"colab-df-convert\" onclick=\"convertToInteractive('df-f4ec9ace-93a0-44fe-9cdf-2930cbca7530')\"\n",
              "              title=\"Convert this dataframe to an interactive table.\"\n",
              "              style=\"display:none;\">\n",
              "        \n",
              "  <svg xmlns=\"http://www.w3.org/2000/svg\" height=\"24px\"viewBox=\"0 0 24 24\"\n",
              "       width=\"24px\">\n",
              "    <path d=\"M0 0h24v24H0V0z\" fill=\"none\"/>\n",
              "    <path d=\"M18.56 5.44l.94 2.06.94-2.06 2.06-.94-2.06-.94-.94-2.06-.94 2.06-2.06.94zm-11 1L8.5 8.5l.94-2.06 2.06-.94-2.06-.94L8.5 2.5l-.94 2.06-2.06.94zm10 10l.94 2.06.94-2.06 2.06-.94-2.06-.94-.94-2.06-.94 2.06-2.06.94z\"/><path d=\"M17.41 7.96l-1.37-1.37c-.4-.4-.92-.59-1.43-.59-.52 0-1.04.2-1.43.59L10.3 9.45l-7.72 7.72c-.78.78-.78 2.05 0 2.83L4 21.41c.39.39.9.59 1.41.59.51 0 1.02-.2 1.41-.59l7.78-7.78 2.81-2.81c.8-.78.8-2.07 0-2.86zM5.41 20L4 18.59l7.72-7.72 1.47 1.35L5.41 20z\"/>\n",
              "  </svg>\n",
              "      </button>\n",
              "      \n",
              "  <style>\n",
              "    .colab-df-container {\n",
              "      display:flex;\n",
              "      flex-wrap:wrap;\n",
              "      gap: 12px;\n",
              "    }\n",
              "\n",
              "    .colab-df-convert {\n",
              "      background-color: #E8F0FE;\n",
              "      border: none;\n",
              "      border-radius: 50%;\n",
              "      cursor: pointer;\n",
              "      display: none;\n",
              "      fill: #1967D2;\n",
              "      height: 32px;\n",
              "      padding: 0 0 0 0;\n",
              "      width: 32px;\n",
              "    }\n",
              "\n",
              "    .colab-df-convert:hover {\n",
              "      background-color: #E2EBFA;\n",
              "      box-shadow: 0px 1px 2px rgba(60, 64, 67, 0.3), 0px 1px 3px 1px rgba(60, 64, 67, 0.15);\n",
              "      fill: #174EA6;\n",
              "    }\n",
              "\n",
              "    [theme=dark] .colab-df-convert {\n",
              "      background-color: #3B4455;\n",
              "      fill: #D2E3FC;\n",
              "    }\n",
              "\n",
              "    [theme=dark] .colab-df-convert:hover {\n",
              "      background-color: #434B5C;\n",
              "      box-shadow: 0px 1px 3px 1px rgba(0, 0, 0, 0.15);\n",
              "      filter: drop-shadow(0px 1px 2px rgba(0, 0, 0, 0.3));\n",
              "      fill: #FFFFFF;\n",
              "    }\n",
              "  </style>\n",
              "\n",
              "      <script>\n",
              "        const buttonEl =\n",
              "          document.querySelector('#df-f4ec9ace-93a0-44fe-9cdf-2930cbca7530 button.colab-df-convert');\n",
              "        buttonEl.style.display =\n",
              "          google.colab.kernel.accessAllowed ? 'block' : 'none';\n",
              "\n",
              "        async function convertToInteractive(key) {\n",
              "          const element = document.querySelector('#df-f4ec9ace-93a0-44fe-9cdf-2930cbca7530');\n",
              "          const dataTable =\n",
              "            await google.colab.kernel.invokeFunction('convertToInteractive',\n",
              "                                                     [key], {});\n",
              "          if (!dataTable) return;\n",
              "\n",
              "          const docLinkHtml = 'Like what you see? Visit the ' +\n",
              "            '<a target=\"_blank\" href=https://colab.research.google.com/notebooks/data_table.ipynb>data table notebook</a>'\n",
              "            + ' to learn more about interactive tables.';\n",
              "          element.innerHTML = '';\n",
              "          dataTable['output_type'] = 'display_data';\n",
              "          await google.colab.output.renderOutput(dataTable, element);\n",
              "          const docLink = document.createElement('div');\n",
              "          docLink.innerHTML = docLinkHtml;\n",
              "          element.appendChild(docLink);\n",
              "        }\n",
              "      </script>\n",
              "    </div>\n",
              "  </div>\n",
              "  "
            ]
          },
          "metadata": {}
        }
      ],
      "source": [
        "# Combining the lists computed above into a tabluar pandas dataframe\n",
        "\n",
        "df_result = pd.concat([pd.DataFrame(os_col1, columns=['Antecedent']),\n",
        "                       pd.DataFrame(os_col2, columns=['Consequent']),\n",
        "                       pd.DataFrame(support, columns=['Support']),\n",
        "                       pd.DataFrame(os_col3, columns=['Confidence']),\n",
        "                       pd.DataFrame(os_col4, columns=['Lift'])],\n",
        "                      axis=1)\n",
        "display(df_result.head())"
      ]
    },
    {
      "cell_type": "code",
      "execution_count": 14,
      "metadata": {
        "id": "x3_I5FcTx5nw"
      },
      "outputs": [],
      "source": [
        "df_result.to_csv('rules_results.csv', index = None)"
      ]
    }
  ],
  "metadata": {
    "kernelspec": {
      "display_name": "Python 3",
      "language": "python",
      "name": "python3"
    },
    "language_info": {
      "codemirror_mode": {
        "name": "ipython",
        "version": 3
      },
      "file_extension": ".py",
      "mimetype": "text/x-python",
      "name": "python",
      "nbconvert_exporter": "python",
      "pygments_lexer": "ipython3",
      "version": "3.7.3"
    },
    "colab": {
      "name": "ARules.ipynb",
      "provenance": []
    }
  },
  "nbformat": 4,
  "nbformat_minor": 0
}